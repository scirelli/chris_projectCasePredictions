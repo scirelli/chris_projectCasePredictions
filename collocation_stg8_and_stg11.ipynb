{
 "cells": [
  {
   "cell_type": "code",
   "execution_count": 1,
   "metadata": {
    "collapsed": true
   },
   "outputs": [],
   "source": [
    "import os\n",
    "import pandas as pd"
   ]
  },
  {
   "cell_type": "code",
   "execution_count": 2,
   "metadata": {
    "collapsed": true
   },
   "outputs": [],
   "source": [
    "# Change directory\n",
    "os.chdir('/home/ccirelli2/Desktop/Docket-Sheet-Classification-v2/Stage5_Predictions_Results')\n",
    "\n",
    "# # Load Excel Files\n",
    "Chunk1_docketsheet_entries = r'Step5_Prediction_Appended_Docketsheet_Chunk1.xlsx'\n",
    "Chunk1_case_predictions = r'Case_Level_Predictions_Chunk1.xlsx'\n",
    "df1_chunk1_ds_entries = pd.read_excel(Chunk1_docketsheet_entries)\n",
    "df2_case_predictions = pd.read_excel(Chunk1_case_predictions)\n"
   ]
  },
  {
   "cell_type": "code",
   "execution_count": null,
   "metadata": {
    "collapsed": true
   },
   "outputs": [],
   "source": []
  },
  {
   "cell_type": "code",
   "execution_count": 3,
   "metadata": {
    "collapsed": true
   },
   "outputs": [],
   "source": [
    "def get_collocation_stg8_stg11(df1, df2):\n",
    "    \n",
    "    # Import the docket-sheet-entry and case_level_predictions as pandas dataframes. \n",
    "\n",
    "    # Create a list to capture the value of 1 (match) or 0 (no match) for each case in \n",
    "    # the case_level_prediction file \n",
    "    List_capture_value = []\n",
    "    \n",
    "    # For each case number in the case_level_predictions file\n",
    "    for x,y,z in zip(df1.itertuples(), df2.itertuples(), df2[1:].itertuples()):\n",
    "        # x[1] = case number\n",
    "        # y[0] = case number\n",
    "        # y[-1] = stage\n",
    "        # z[-1] = stage\n",
    "        \n",
    "        # if the docket sheet case_num == case_level_case num, AND\n",
    "        # the offset row stage == 11, AND\n",
    "        # if the row above the offset row == 8, then we have a match. \n",
    "        \n",
    "        if y[0] == x[1] and z[-1] != 11:\n",
    "            List = []\n",
    "            List.append(z[-1])\n",
    "            \n",
    "            if z[-1] == 11 and 8 in List:\n",
    "                if y[-1] in List:\n",
    "                    List_capture_value.apppend(1)\n",
    "                else:\n",
    "                    List_capture_value.append(0)\n",
    "    \n",
    "    return List_capture_value\n",
    "        "
   ]
  },
  {
   "cell_type": "code",
   "execution_count": 4,
   "metadata": {},
   "outputs": [
    {
     "data": {
      "text/plain": [
       "[]"
      ]
     },
     "execution_count": 4,
     "metadata": {},
     "output_type": "execute_result"
    }
   ],
   "source": [
    "get_collocation_stg8_stg11(df1_chunk1_ds_entries, df2_case_predictions)"
   ]
  },
  {
   "cell_type": "code",
   "execution_count": null,
   "metadata": {
    "collapsed": true
   },
   "outputs": [],
   "source": []
  },
  {
   "cell_type": "code",
   "execution_count": null,
   "metadata": {
    "collapsed": true
   },
   "outputs": [],
   "source": []
  },
  {
   "cell_type": "code",
   "execution_count": null,
   "metadata": {
    "collapsed": true
   },
   "outputs": [],
   "source": []
  },
  {
   "cell_type": "code",
   "execution_count": null,
   "metadata": {
    "collapsed": true
   },
   "outputs": [],
   "source": []
  },
  {
   "cell_type": "code",
   "execution_count": null,
   "metadata": {
    "collapsed": true
   },
   "outputs": [],
   "source": []
  },
  {
   "cell_type": "code",
   "execution_count": null,
   "metadata": {
    "collapsed": true
   },
   "outputs": [],
   "source": []
  },
  {
   "cell_type": "code",
   "execution_count": null,
   "metadata": {
    "collapsed": true
   },
   "outputs": [],
   "source": []
  },
  {
   "cell_type": "code",
   "execution_count": null,
   "metadata": {
    "collapsed": true
   },
   "outputs": [],
   "source": []
  },
  {
   "cell_type": "code",
   "execution_count": null,
   "metadata": {
    "collapsed": true
   },
   "outputs": [],
   "source": []
  }
 ],
 "metadata": {
  "kernelspec": {
   "display_name": "Python 3",
   "language": "python",
   "name": "python3"
  },
  "language_info": {
   "codemirror_mode": {
    "name": "ipython",
    "version": 3
   },
   "file_extension": ".py",
   "mimetype": "text/x-python",
   "name": "python",
   "nbconvert_exporter": "python",
   "pygments_lexer": "ipython3",
   "version": "3.6.3"
  }
 },
 "nbformat": 4,
 "nbformat_minor": 2
}
